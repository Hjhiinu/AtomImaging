{
  "nbformat": 4,
  "nbformat_minor": 0,
  "metadata": {
    "colab": {
      "provenance": []
    },
    "kernelspec": {
      "name": "python3",
      "display_name": "Python 3"
    },
    "language_info": {
      "name": "python"
    }
  },
  "cells": [
    {
      "cell_type": "code",
      "execution_count": null,
      "metadata": {
        "id": "i6TrpQnfFnum"
      },
      "outputs": [],
      "source": [
        "#pip install pandas openpyxl    VREY IMPORTANT!\n",
        "\n",
        "import pandas as pd\n",
        "import numpy as np\n",
        "\n",
        "def read_matrices(filename, sheet_name='Sheet1'):    #Sheet 1 is the default setting\n",
        "    # Read only the first few rows where data is expected\n",
        "    df = pd.read_excel(filename, sheet_name=sheet_name)\n",
        "\n",
        "    # Initialize the list to store matrices and the start column index\n",
        "    matrices = []\n",
        "    start_col = 0\n",
        "\n",
        "    # Detect where the columns are completely NaN to find breaks between matrices\n",
        "    while start_col < df.shape[1]:\n",
        "        # Ignore initial empty columns if any\n",
        "        if df.iloc[:, start_col].isna().all():\n",
        "            start_col += 1\n",
        "            continue\n",
        "\n",
        "        # Find the next all-NaN column which signifies the end of a matrix\n",
        "        end_col = start_col\n",
        "        while end_col < df.shape[1] and not df.iloc[:, end_col].isna().all():\n",
        "            end_col += 1\n",
        "\n",
        "        # Extract the matrix between start_col and end_col, minus one to exclude the NaN column\n",
        "        matrix_df = df.iloc[:, start_col:end_col].dropna(how='all', axis=1)\n",
        "        matrices.append(matrix_df.values)  # Convert DataFrame to NumPy array\n",
        "\n",
        "        # Update start_col to the column after the next NaN column\n",
        "        start_col = end_col + 1\n",
        "\n",
        "    return matrices\n",
        "\n",
        "\n",
        "#Reading Process Example\n",
        "filename = 'path'  # Update with the path to your Excel file\n",
        "matrices = read_matrices(filename)\n",
        "\n",
        "if len(matrices) >= len:   #Numbers of the expected matrices\n",
        "    E, F, G, H = matrices[0], matrices[1], matrices[2], matrices[3]  #Assume there are four matrices\n",
        "else:\n",
        "    print(\"Error: Not enough matrices available in the list.\")  # Throw out Exception\n"
      ]
    }
  ]
}